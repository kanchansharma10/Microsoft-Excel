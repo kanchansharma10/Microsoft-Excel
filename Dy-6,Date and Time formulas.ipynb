{
 "cells": [
  {
   "cell_type": "markdown",
   "id": "9baac64e",
   "metadata": {},
   "source": [
    "<div style=\"background-color:rgba(151, 33, 108, 1); padding: 10px; height: 70px; border-radius: 15px;\">\n",
    "    <div style=\"font-family: 'Georgia', serif; font-size: 20px; padding: 10px; text-align: right; position: absolute; right: 20px;\">\n",
    "        Kanchan Sharma <br>\n",
    "        <span style=\"font-family: 'Arial', sans-serif;font-size: 12px; color: #0a0a0a;\">Tech Skills Trainee | Data Analyst</span> \n",
    "    </div>\n",
    "</div>"
   ]
  },
  {
   "cell_type": "markdown",
   "id": "51b61779",
   "metadata": {},
   "source": [
    "<div style=\"background-color: #002147; padding: 10px; text-align: center; color: white; font-size: 32px; font-family: 'Arial', sans-serif;\">\n",
    "Date and Time Formulas in Excel  <br>\n",
    "    <h3 style=\"text-align: center; color: white; font-size: 15px; font-family: 'Arial', sans-serif;\"></h3>\n",
    "</div>"
   ]
  },
  {
   "cell_type": "markdown",
   "id": "3a7a9ad9",
   "metadata": {},
   "source": [
    "Here are the most **useful Date and Time formulas in Excel**, with simple **examples** to help you understand each one clearly.\n",
    "\n",
    "---\n",
    "\n",
    "##  **Date Formulas in Excel**\n",
    "\n",
    "| **Formula**                 | **Description**                             | **Example**                                        |\n",
    "| --------------------------- | ------------------------------------------- | -------------------------------------------------- |\n",
    "| `=TODAY()`                  | Returns the current date                    | `20-07-2025`                                       |\n",
    "| `=DATE(year, month, day)`   | Creates a date from numbers                 | `=DATE(2025, 7, 20)` → `20-07-2025`                |\n",
    "| `=DAY(A1)`                  | Extracts day from a date                    | `=DAY(\"20-07-2025\")` → `20`                        |\n",
    "| `=MONTH(A1)`                | Extracts month from a date                  | `=MONTH(\"20-07-2025\")` → `7`                       |\n",
    "| `=YEAR(A1)`                 | Extracts year from a date                   | `=YEAR(\"20-07-2025\")` → `2025`                     |\n",
    "| `=WEEKDAY(A1)`              | Returns day number of week (Sun=1 to Sat=7) | `=WEEKDAY(\"20-07-2025\")` → `1`                     |\n",
    "| `=EOMONTH(A1, 0)`           | Last day of month from given date           | `=EOMONTH(\"20-07-2025\", 0)` → `31-07-2025`         |\n",
    "| `=DATEDIF(start, end, \"D\")` | Days between two dates                      | `=DATEDIF(\"01-07-2025\", \"20-07-2025\", \"D\")` → `19` |\n",
    "| `=NETWORKDAYS(start, end)`  | Working days between dates                  | `=NETWORKDAYS(\"01-07-2025\", \"20-07-2025\")` → `14`  |\n",
    "\n",
    "---\n",
    "\n",
    "##  **Time Formulas in Excel**\n",
    "\n",
    "| **Formula**             | **Description**                                        | **Example**                                  |\n",
    "| ----------------------- | ------------------------------------------------------ | -------------------------------------------- |\n",
    "| `=NOW()`                | Current date and time                                  | `20-07-2025 17:15`                           |\n",
    "| `=TIME(hour, min, sec)` | Creates a time                                         | `=TIME(14, 30, 0)` → `2:30 PM`               |\n",
    "| `=HOUR(A1)`             | Extracts hour                                          | `=HOUR(\"14:30\")` → `14`                      |\n",
    "| `=MINUTE(A1)`           | Extracts minute                                        | `=MINUTE(\"14:30\")` → `30`                    |\n",
    "| `=SECOND(A1)`           | Extracts seconds                                       | `=SECOND(\"14:30:45\")` → `45`                 |\n",
    "| `=TEXT(A1, \"hh:mm:ss\")` | Formats time as text                                   | `=TEXT(\"14:30:00\", \"hh:mm:ss\")` → `14:30:00` |\n",
    "| `=NOW() - A1`           | Time difference (in days, multiply by 24 to get hours) | `= (NOW()-A1)*24`                            |\n",
    "\n",
    "---\n",
    "\n"
   ]
  },
  {
   "cell_type": "markdown",
   "id": "1584564b",
   "metadata": {},
   "source": [
    "\n",
    "<div style=\"background-color: PINK; color: #fff; padding: 30px; text-align: center;\">\n",
    "    <h1>END!\n",
    "        <!--- Devashish Kumar | Tech Skills Trainer | CodroidHub Private Limited | AI/ML Consultant --->\n",
    "</h1> </div>"
   ]
  },
  {
   "cell_type": "markdown",
   "id": "408dfbb9",
   "metadata": {},
   "source": [
    "<div style=\"background-color: #002147; color: #fff; padding: 30px; text-align: center;\">\n",
    "    <h1>THANK YOU!\n",
    "        <!--- Devashish Kumar | Tech Skills Trainer | CodroidHub Private Limited | AI/ML Consultant --->\n",
    "</h1> </div>"
   ]
  },
  {
   "cell_type": "markdown",
   "id": "7c272e39",
   "metadata": {},
   "source": []
  }
 ],
 "metadata": {
  "language_info": {
   "name": "python"
  }
 },
 "nbformat": 4,
 "nbformat_minor": 5
}
