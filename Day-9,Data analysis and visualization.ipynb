{
 "cells": [
  {
   "cell_type": "markdown",
   "id": "f7a1f140",
   "metadata": {},
   "source": [
    "\n",
    "<div style=\"background-color: #190431ff; padding: 10px; height: 70px; border-radius: 15px;\">\n",
    "    <div style=\"font-family: 'Georgia', serif; font-size: 20px; padding: 10px; text-align: right; position: absolute; right: 20px;\">\n",
    "        Kanchan Sharma <br>\n",
    "        <span style=\"font-family: 'Arial', sans-serif;font-size: 12px; color: #dbdadaff;\">Tech Skills Trainee | Data Analyst</span> \n",
    "    </div>\n",
    "</div>"
   ]
  },
  {
   "cell_type": "markdown",
   "id": "bd16fd76",
   "metadata": {},
   "source": [
    "<div style=\"background-color: #002147; padding: 10px; text-align: center; color: white; font-size: 32px; font-family: 'Arial', sans-serif;\"><br>\n",
    "Excel <br>\n",
    "    <h1 style=\"text-align: center; color: white; font-size: 15px; font-family: 'Arial', sans-serif;\"></h1>\n",
    "</div>"
   ]
  },
  {
   "cell_type": "markdown",
   "id": "f817246b",
   "metadata": {},
   "source": [
    "<div style=\"background-color: PINK; color: #fff; padding: 30px; text-align: center;\">\n",
    "    <h1> Data Analysis and Visualization  in Excel\n",
    "\n",
    "        \n",
    "</h1> </div>"
   ]
  },
  {
   "cell_type": "markdown",
   "id": "048392b1",
   "metadata": {},
   "source": [
    "**Data Analysis and Visualization in Excel** involves examining datasets, finding trends, and representing them visually using charts, graphs, and pivot tables. Excel provides built-in tools that make this process simple and powerful.\n",
    "\n",
    "---\n",
    "\n",
    "## **1. Key Steps in Data Analysis in Excel**\n",
    "\n",
    "### **Step 1: Data Cleaning**\n",
    "\n",
    "* Remove duplicates (`Data → Remove Duplicates`).\n",
    "* Fill or remove missing values.\n",
    "* Use `TRIM()`, `CLEAN()`, and `SUBSTITUTE()` to fix text data.\n",
    "\n",
    "### **Step 2: Data Sorting & Filtering**\n",
    "\n",
    "* Use `Sort` (ascending/descending) for organized data.\n",
    "* Apply `Filter` (Data → Filter) to view specific records.\n",
    "\n",
    "### **Step 3: Data Summarization**\n",
    "\n",
    "* **Formulas**: Use `SUM()`, `AVERAGE()`, `COUNT()`, `MAX()`, `MIN()`.\n",
    "* **Conditional Analysis**: Use `IF()`, `IFS()`, `COUNTIF()`, `SUMIF()` for conditions.\n",
    "\n",
    "### **Step 4: Data Aggregation with Pivot Tables**\n",
    "\n",
    "* `Insert → Pivot Table`\n",
    "* Drag **fields** into **Rows, Columns, and Values** to summarize data.\n",
    "* Add **Slicers** for interactive filtering.\n",
    "\n",
    "---\n",
    "\n",
    "## **2. Data Visualization Tools in Excel**\n",
    "\n",
    "Visualization helps in understanding patterns and insights. Excel provides multiple chart types:\n",
    "\n",
    "### **Common Charts:**\n",
    "\n",
    "* **Column/Bar Chart** – Compare categories.\n",
    "* **Pie Chart** – Show percentage contribution.\n",
    "* **Line Chart** – Show trends over time.\n",
    "* **Area Chart** – Visualize cumulative trends.\n",
    "* **Scatter Plot** – Show relationships between variables.\n",
    "\n",
    "### **Advanced Visuals:**\n",
    "\n",
    "* **Combo Charts** – Combine two chart types (e.g., column + line).\n",
    "* **Histogram & Pareto** – Show data frequency.\n",
    "* **Waterfall Chart** – Show incremental changes.\n",
    "* **Sparklines** – Mini charts inside cells.\n",
    "\n",
    "---\n",
    "\n",
    "## **3. Conditional Formatting**\n",
    "\n",
    "* Highlight cells based on rules (e.g., sales > 10,000).\n",
    "* Use **Data Bars, Color Scales, Icon Sets** for visual indicators.\n",
    "  *(Home → Conditional Formatting)*\n",
    "\n",
    "---\n",
    "\n",
    "## **4. Data Analysis ToolPak**\n",
    "\n",
    "* Activate from `File → Options → Add-ins → Analysis ToolPak`.\n",
    "* Provides advanced analysis like **Regression, Histogram, Descriptive Statistics**.\n",
    "\n",
    "---\n",
    "\n",
    "## **5. Dashboard Creation**\n",
    "\n",
    "* Combine pivot tables, pivot charts, slicers, and KPIs.\n",
    "* Use **Shapes and SmartArt** to create interactive dashboards.\n",
    "\n",
    "---\n",
    "\n",
    "### **Example: Monthly Sales Analysis**\n",
    "\n",
    "* Use a **Pivot Table** to get total sales per month.\n",
    "* Insert a **Line Chart** to show the trend.\n",
    "* Add **Conditional Formatting** to highlight the highest month.\n",
    "\n",
    "---\n",
    "\n"
   ]
  },
  {
   "cell_type": "markdown",
   "id": "63dabfa4",
   "metadata": {},
   "source": [
    "<div style=\"background-color: PINK; color: #fff; padding: 30px; text-align: center;\">\n",
    "    <h1>END!\n",
    "        \n",
    "</h1> </div>"
   ]
  },
  {
   "cell_type": "markdown",
   "id": "f25a4cb8",
   "metadata": {},
   "source": [
    "<div style=\"background-color: #002147; color: #fff; padding: 30px; text-align: center;\">\n",
    "    <h1>THANK YOU!\n",
    "        \n",
    "</h1> </div>"
   ]
  },
  {
   "cell_type": "markdown",
   "id": "bbb2c53d",
   "metadata": {},
   "source": []
  }
 ],
 "metadata": {
  "language_info": {
   "name": "python"
  }
 },
 "nbformat": 4,
 "nbformat_minor": 5
}
