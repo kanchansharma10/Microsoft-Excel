{
 "cells": [
  {
   "cell_type": "markdown",
   "id": "1a5542c5",
   "metadata": {},
   "source": [
    "<div style=\"background-color:rgba(151, 33, 108, 1); padding: 10px; height: 70px; border-radius: 15px;\">\n",
    "    <div style=\"font-family: 'Georgia', serif; font-size: 20px; padding: 10px; text-align: right; position: absolute; right: 20px;\">\n",
    "        Kanchan Sharma <br>\n",
    "        <span style=\"font-family: 'Arial', sans-serif;font-size: 12px; color: #0a0a0a;\">Tech Skills Trainee | Data Analyst</span> \n",
    "    </div>\n",
    "</div>"
   ]
  },
  {
   "cell_type": "markdown",
   "id": "8bf00faa",
   "metadata": {},
   "source": [
    "<div style=\"background-color: #002147; padding: 10px; text-align: center; color: white; font-size: 32px; font-family: 'Arial', sans-serif;\">\n",
    "Text Formulas in Excel  <br>\n",
    "    <h3 style=\"text-align: center; color: white; font-size: 15px; font-family: 'Arial', sans-serif;\"></h3>\n",
    "</div>"
   ]
  },
  {
   "cell_type": "markdown",
   "id": "170397a3",
   "metadata": {},
   "source": [
    "Excel provides several **text formulas** (functions) that help manipulate and analyze text. Here's a list of commonly used **text functions** in Excel, along with examples:\n",
    "\n",
    "---\n",
    "\n",
    "###  **Basic Text Functions**\n",
    "\n",
    "| Function                                      | Description                                              | Example                         |\n",
    "| --------------------------------------------- | -------------------------------------------------------- | ------------------------------- |\n",
    "| `LEFT(text, num_chars)`                       | Extracts characters from the left                        | `=LEFT(\"Apple\", 3)` → `\"App\"`   |\n",
    "| `RIGHT(text, num_chars)`                      | Extracts characters from the right                       | `=RIGHT(\"Apple\", 2)` → `\"le\"`   |\n",
    "| `MID(text, start_num, num_chars)`             | Extracts text from the middle                            | `=MID(\"Apple\", 2, 3)` → `\"ppl\"` |\n",
    "| `LEN(text)`                                   | Returns length of a string                               | `=LEN(\"Apple\")` → `5`           |\n",
    "| `FIND(find_text, within_text, [start_num])`   | Finds position of one string in another (case-sensitive) | `=FIND(\"p\", \"Apple\")` → `2`     |\n",
    "| `SEARCH(find_text, within_text, [start_num])` | Like `FIND`, but case-insensitive                        | `=SEARCH(\"P\", \"Apple\")` → `2`   |\n",
    "\n",
    "---\n",
    "\n",
    "###  **Text Conversion and Formatting**\n",
    "\n",
    "| Function                   | Description                           | Example                                |\n",
    "| -------------------------- | ------------------------------------- | -------------------------------------- |\n",
    "| `UPPER(text)`              | Converts to uppercase                 | `=UPPER(\"apple\")` → `\"APPLE\"`          |\n",
    "| `LOWER(text)`              | Converts to lowercase                 | `=LOWER(\"APPLE\")` → `\"apple\"`          |\n",
    "| `PROPER(text)`             | Capitalizes first letter of each word | `=PROPER(\"john doe\")` → `\"John Doe\"`   |\n",
    "| `TEXT(value, format_text)` | Formats a number/date as text         | `=TEXT(1234.56, \"0.00\")` → `\"1234.56\"` |\n",
    "| `VALUE(text)`              | Converts text to number               | `=VALUE(\"123\")` → `123`                |\n",
    "\n",
    "---\n",
    "\n",
    "###  **Combining & Cleaning Text**\n",
    "\n",
    "| Function                                               | Description                      | Example                                              |\n",
    "| ------------------------------------------------------ | -------------------------------- | ---------------------------------------------------- |\n",
    "| `CONCAT(text1, [text2], …)`                            | Joins text strings               | `=CONCAT(\"Hello\", \" \", \"World\")` → `\"Hello World\"`   |\n",
    "| `TEXTJOIN(delimiter, ignore_empty, text1, [text2], …)` | Joins text with a delimiter      | `=TEXTJOIN(\", \", TRUE, \"A\", \"B\", \"C\")` → `\"A, B, C\"` |\n",
    "| `TRIM(text)`                                           | Removes extra spaces             | `=TRIM(\" Hello  World \")` → `\"Hello World\"`          |\n",
    "| `CLEAN(text)`                                          | Removes non-printable characters | Useful for imported data                             |\n",
    "\n",
    "---\n",
    "\n",
    "### **Advanced Examples**\n",
    "\n",
    "1. **Extract First Name from Full Name:**\n",
    "\n",
    "   ```excel\n",
    "   =LEFT(A1, FIND(\" \", A1)-1)\n",
    "   ```\n",
    "\n",
    "2. **Extract Last Name from Full Name:**\n",
    "\n",
    "   ```excel\n",
    "   =RIGHT(A1, LEN(A1) - FIND(\" \", A1))\n",
    "   ```\n",
    "\n",
    "3. **Replace Text in a String:**\n",
    "\n",
    "   ```excel\n",
    "   =SUBSTITUTE(\"2024-07-19\", \"-\", \"/\")\n",
    "   → \"2024/07/19\"\n",
    "   ```\n",
    "\n",
    "---\n"
   ]
  },
  {
   "cell_type": "markdown",
   "id": "bd7b50f8",
   "metadata": {},
   "source": [
    "\n",
    "<div style=\"background-color: PINK; color: #fff; padding: 30px; text-align: center;\">\n",
    "    <h1>END!\n",
    "        <!--- Devashish Kumar | Tech Skills Trainer | CodroidHub Private Limited | AI/ML Consultant --->\n",
    "</h1> </div>"
   ]
  },
  {
   "cell_type": "markdown",
   "id": "8c31dcd3",
   "metadata": {},
   "source": [
    "<div style=\"background-color: #002147; color: #fff; padding: 30px; text-align: center;\">\n",
    "    <h1>THANK YOU!\n",
    "        <!--- Devashish Kumar | Tech Skills Trainer | CodroidHub Private Limited | AI/ML Consultant --->\n",
    "</h1> </div>"
   ]
  },
  {
   "cell_type": "markdown",
   "id": "5d14f3ea",
   "metadata": {},
   "source": []
  }
 ],
 "metadata": {
  "language_info": {
   "name": "python"
  }
 },
 "nbformat": 4,
 "nbformat_minor": 5
}
