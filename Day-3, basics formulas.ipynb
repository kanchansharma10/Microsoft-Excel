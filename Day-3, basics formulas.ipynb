{
 "cells": [
  {
   "cell_type": "markdown",
   "id": "274c0753",
   "metadata": {},
   "source": [
    "<div style=\"background-color:rgba(151, 33, 108, 1); padding: 10px; height: 70px; border-radius: 15px;\">\n",
    "    <div style=\"font-family: 'Georgia', serif; font-size: 20px; padding: 10px; text-align: right; position: absolute; right: 20px;\">\n",
    "        Kanchan Sharma <br>\n",
    "        <span style=\"font-family: 'Arial', sans-serif;font-size: 12px; color: #0a0a0a;\">Tech Skills Trainee | Data Analyst</span> \n",
    "    </div>\n",
    "</div>"
   ]
  },
  {
   "cell_type": "markdown",
   "id": "04f768b8",
   "metadata": {},
   "source": [
    "<div style=\"background-color: #002147; padding: 10px; text-align: center; color: white; font-size: 32px; font-family: 'Arial', sans-serif;\">\n",
    "Basics Formulas in Excel  <br>\n",
    "    <h3 style=\"text-align: center; color: white; font-size: 15px; font-family: 'Arial', sans-serif;\"></h3>\n",
    "</div>"
   ]
  },
  {
   "cell_type": "markdown",
   "id": "1a2d256a",
   "metadata": {},
   "source": [
    "Here are **basic Excel formulas** that are essential for beginners:\n",
    "\n",
    "---\n",
    "\n",
    "###  **1. SUM**\n",
    "\n",
    "**Adds values.**\n",
    "**Formula:** `=SUM(A1:A5)`\n",
    " Adds all numbers from cells A1 to A5.\n",
    "\n",
    "---\n",
    "\n",
    "###  **2. AVERAGE**\n",
    "\n",
    "**Calculates average (mean).**\n",
    "**Formula:** `=AVERAGE(A1:A5)`\n",
    "\n",
    "---\n",
    "\n",
    "###  **3. COUNT**\n",
    "\n",
    "**Counts numeric values.**\n",
    "**Formula:** `=COUNT(A1:A10)`\n",
    "\n",
    "---\n",
    "\n",
    "###  **4. COUNTA**\n",
    "\n",
    "**Counts non-empty cells (numbers + text).**\n",
    "**Formula:** `=COUNTA(A1:A10)`\n",
    "\n",
    "---\n",
    "\n",
    "###  **5. IF**\n",
    "\n",
    "**Performs logic test.**\n",
    "**Formula:** `=IF(A1>10, \"Yes\", \"No\")`\n",
    "\n",
    "---\n",
    "\n",
    "###  **6. MAX / MIN**\n",
    "\n",
    "**Finds maximum or minimum value.**\n",
    "**Formula:** `=MAX(A1:A5)`\n",
    "**Formula:** `=MIN(A1:A5)`\n",
    "\n",
    "---\n",
    "\n",
    "###  **7. CONCAT / TEXTJOIN**\n",
    "\n",
    "**Joins text from multiple cells.**\n",
    "**Formula:** `=CONCAT(A1, B1)`\n",
    "**Formula (with separator):** `=TEXTJOIN(\", \", TRUE, A1:A3)`\n",
    "\n",
    "---\n",
    "\n",
    "###  **8. TODAY / NOW**\n",
    "\n",
    "**Returns current date or date + time.**\n",
    "**Formula:** `=TODAY()`\n",
    "**Formula:** `=NOW()`\n",
    "\n",
    "---\n",
    "\n",
    "###  **9. TRIM**\n",
    "\n",
    "**Removes extra spaces from text.**\n",
    "**Formula:** `=TRIM(A1)`\n",
    "\n",
    "---\n",
    "\n",
    "###  **10. LEN**\n",
    "\n",
    "**Returns a number of character in the cell.**\n",
    "**Formula:**\n",
    "`=LEN(A1)`\n",
    "\n",
    "\n",
    "---\n",
    "\n",
    "\n"
   ]
  },
  {
   "cell_type": "markdown",
   "id": "7fc707bc",
   "metadata": {},
   "source": [
    "\n",
    "<div style=\"background-color: PINK; color: #fff; padding: 30px; text-align: center;\">\n",
    "    <h1>END!\n",
    "        <!--- Devashish Kumar | Tech Skills Trainer | CodroidHub Private Limited | AI/ML Consultant --->\n",
    "</h1> </div>"
   ]
  },
  {
   "cell_type": "markdown",
   "id": "30190b4f",
   "metadata": {},
   "source": [
    "<div style=\"background-color: #002147; color: #fff; padding: 30px; text-align: center;\">\n",
    "    <h1>THANK YOU!\n",
    "        <!--- Devashish Kumar | Tech Skills Trainer | CodroidHub Private Limited | AI/ML Consultant --->\n",
    "</h1> </div>"
   ]
  },
  {
   "cell_type": "markdown",
   "id": "d8c02f1e",
   "metadata": {},
   "source": []
  }
 ],
 "metadata": {
  "language_info": {
   "name": "python"
  }
 },
 "nbformat": 4,
 "nbformat_minor": 5
}
