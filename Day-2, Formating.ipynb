{
 "cells": [
  {
   "cell_type": "markdown",
   "id": "8c3c770c",
   "metadata": {},
   "source": [
    "<div style=\"background-color:rgba(151, 33, 108, 1); padding: 10px; height: 70px; border-radius: 15px;\">\n",
    "    <div style=\"font-family: 'Georgia', serif; font-size: 20px; padding: 10px; text-align: right; position: absolute; right: 20px;\">\n",
    "        Kanchan Sharma <br>\n",
    "        <span style=\"font-family: 'Arial', sans-serif;font-size: 12px; color: #0a0a0a;\">Tech Skills Trainee | Data Analyst</span> \n",
    "    </div>\n",
    "</div>"
   ]
  },
  {
   "cell_type": "markdown",
   "id": "9708177e",
   "metadata": {},
   "source": [
    "<div style=\"background-color: #002147; padding: 10px; text-align: center; color: white; font-size: 32px; font-family: 'Arial', sans-serif;\">\n",
    "Formatting in Excel  <br>\n",
    "    <h3 style=\"text-align: center; color: white; font-size: 15px; font-family: 'Arial', sans-serif;\"></h3>\n",
    "</div>"
   ]
  },
  {
   "cell_type": "markdown",
   "id": "b45e431d",
   "metadata": {},
   "source": [
    "Formatting in Excel refers to changing the appearance of cells to make your spreadsheet easier to read and interpret. Here’s a breakdown of the most common types of formatting you can apply:\n",
    "\n",
    "---\n",
    "\n",
    "### 🔹 **Cell Formatting Basics**\n",
    "\n",
    "You can access formatting options by:\n",
    "\n",
    "* Right-clicking a cell → **Format Cells**\n",
    "* Using the **Home** tab on the ribbon\n",
    "\n",
    "---\n",
    "\n",
    "###  **Common Formatting Options**\n",
    "\n",
    "#### 1. **Number Formatting**\n",
    "\n",
    "Change how numbers appear:\n",
    "\n",
    "* **General** (default)\n",
    "* **Number** (control decimal places, commas)\n",
    "* **Currency / Accounting**\n",
    "* **Date / Time** (choose display formats like MM/DD/YYYY)\n",
    "* **Percentage**\n",
    "* **Text** (forces Excel to treat data as plain text)\n",
    "* **Custom** (create your own formats, e.g., `000-000`)\n",
    "\n",
    "#### 2. **Font & Text**\n",
    "\n",
    "* Font size, style (bold, italic)\n",
    "* Font color\n",
    "* Alignment (left, center, right; vertical alignment)\n",
    "* Text wrap (lets text stay in cell but on multiple lines)\n",
    "* Merge cells\n",
    "* Indent text\n",
    "* Orientation (rotate text)\n",
    "\n",
    "#### 3. **Borders & Fill**\n",
    "\n",
    "* Add cell borders (all sides, dashed, thick, etc.)\n",
    "* Change fill color (highlight cells)\n",
    "\n",
    "#### 4. **Conditional Formatting**\n",
    "\n",
    "Automatically format cells based on values:\n",
    "\n",
    "* Highlight cells greater than a certain value\n",
    "* Color scales\n",
    "* Data bars\n",
    "* Icon sets\n",
    "  Found under **Home > Conditional Formatting**\n",
    "\n",
    "---\n",
    "\n",
    "###  Tips for Professional Formatting\n",
    "\n",
    "* Use **consistent fonts** and **alignment**\n",
    "* Apply **cell styles** for headers and totals\n",
    "* Freeze panes to keep headers visible\n",
    "\n",
    "\n",
    "---\n",
    "\n"
   ]
  },
  {
   "cell_type": "markdown",
   "id": "191133f3",
   "metadata": {},
   "source": [
    "\n",
    "<div style=\"background-color: PINK; color: #fff; padding: 30px; text-align: center;\">\n",
    "    <h1>END!\n",
    "        <!--- Devashish Kumar | Tech Skills Trainer | CodroidHub Private Limited | AI/ML Consultant --->\n",
    "</h1> </div>"
   ]
  },
  {
   "cell_type": "markdown",
   "id": "fc1956be",
   "metadata": {},
   "source": [
    "<div style=\"background-color: #002147; color: #fff; padding: 30px; text-align: center;\">\n",
    "    <h1>THANK YOU!\n",
    "        <!--- Devashish Kumar | Tech Skills Trainer | CodroidHub Private Limited | AI/ML Consultant --->\n",
    "</h1> </div>"
   ]
  },
  {
   "cell_type": "markdown",
   "id": "77250f8e",
   "metadata": {},
   "source": []
  }
 ],
 "metadata": {
  "language_info": {
   "name": "python"
  }
 },
 "nbformat": 4,
 "nbformat_minor": 5
}
